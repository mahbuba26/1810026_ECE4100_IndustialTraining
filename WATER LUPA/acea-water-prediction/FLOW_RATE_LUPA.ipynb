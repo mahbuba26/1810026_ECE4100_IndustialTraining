{
 "cells": [
  {
   "cell_type": "code",
   "execution_count": 106,
   "id": "2b2aac00",
   "metadata": {},
   "outputs": [],
   "source": [
    "import numpy as np \n",
    "import pandas as pd\n",
    "import matplotlib.pylab as plt\n",
    "import matplotlib.pylab as rcParams\n",
    "plt.rcParams['figure.figsize']=(10,6)\n",
    "import seaborn as sns\n",
    "from statsmodels.tsa.seasonal import seasonal_decompose"
   ]
  },
  {
   "cell_type": "code",
   "execution_count": 107,
   "id": "87679ddb",
   "metadata": {},
   "outputs": [],
   "source": [
    "train=pd.read_csv('C:/Users/Lenovo/MACHINE LEARNING/New Folder/acea-water-prediction/LUPA.csv')\n",
    "train2=pd.read_csv('C:/Users/Lenovo/MACHINE LEARNING/New Folder/acea-water-prediction/LUPA.csv')"
   ]
  },
  {
   "cell_type": "code",
   "execution_count": 108,
   "id": "58d96215",
   "metadata": {},
   "outputs": [
    {
     "data": {
      "text/html": [
       "<div>\n",
       "<style scoped>\n",
       "    .dataframe tbody tr th:only-of-type {\n",
       "        vertical-align: middle;\n",
       "    }\n",
       "\n",
       "    .dataframe tbody tr th {\n",
       "        vertical-align: top;\n",
       "    }\n",
       "\n",
       "    .dataframe thead th {\n",
       "        text-align: right;\n",
       "    }\n",
       "</style>\n",
       "<table border=\"1\" class=\"dataframe\">\n",
       "  <thead>\n",
       "    <tr style=\"text-align: right;\">\n",
       "      <th></th>\n",
       "      <th>Date</th>\n",
       "      <th>Rainfall_Terni</th>\n",
       "      <th>Flow_Rate_Lupa</th>\n",
       "    </tr>\n",
       "  </thead>\n",
       "  <tbody>\n",
       "    <tr>\n",
       "      <th>0</th>\n",
       "      <td>1/1/2009</td>\n",
       "      <td>2.797</td>\n",
       "      <td>NaN</td>\n",
       "    </tr>\n",
       "    <tr>\n",
       "      <th>1</th>\n",
       "      <td>2/1/2009</td>\n",
       "      <td>2.797</td>\n",
       "      <td>NaN</td>\n",
       "    </tr>\n",
       "    <tr>\n",
       "      <th>2</th>\n",
       "      <td>3/1/2009</td>\n",
       "      <td>2.797</td>\n",
       "      <td>NaN</td>\n",
       "    </tr>\n",
       "    <tr>\n",
       "      <th>3</th>\n",
       "      <td>4/1/2009</td>\n",
       "      <td>2.797</td>\n",
       "      <td>NaN</td>\n",
       "    </tr>\n",
       "    <tr>\n",
       "      <th>4</th>\n",
       "      <td>5/1/2009</td>\n",
       "      <td>2.797</td>\n",
       "      <td>NaN</td>\n",
       "    </tr>\n",
       "    <tr>\n",
       "      <th>...</th>\n",
       "      <td>...</td>\n",
       "      <td>...</td>\n",
       "      <td>...</td>\n",
       "    </tr>\n",
       "    <tr>\n",
       "      <th>4194</th>\n",
       "      <td>26/06/2020</td>\n",
       "      <td>0.000</td>\n",
       "      <td>-73.93</td>\n",
       "    </tr>\n",
       "    <tr>\n",
       "      <th>4195</th>\n",
       "      <td>27/06/2020</td>\n",
       "      <td>0.000</td>\n",
       "      <td>-73.60</td>\n",
       "    </tr>\n",
       "    <tr>\n",
       "      <th>4196</th>\n",
       "      <td>28/06/2020</td>\n",
       "      <td>0.000</td>\n",
       "      <td>-73.14</td>\n",
       "    </tr>\n",
       "    <tr>\n",
       "      <th>4197</th>\n",
       "      <td>29/06/2020</td>\n",
       "      <td>0.000</td>\n",
       "      <td>-72.88</td>\n",
       "    </tr>\n",
       "    <tr>\n",
       "      <th>4198</th>\n",
       "      <td>30/06/2020</td>\n",
       "      <td>0.000</td>\n",
       "      <td>-72.55</td>\n",
       "    </tr>\n",
       "  </tbody>\n",
       "</table>\n",
       "<p>4199 rows × 3 columns</p>\n",
       "</div>"
      ],
      "text/plain": [
       "            Date  Rainfall_Terni  Flow_Rate_Lupa\n",
       "0       1/1/2009           2.797             NaN\n",
       "1       2/1/2009           2.797             NaN\n",
       "2       3/1/2009           2.797             NaN\n",
       "3       4/1/2009           2.797             NaN\n",
       "4       5/1/2009           2.797             NaN\n",
       "...          ...             ...             ...\n",
       "4194  26/06/2020           0.000          -73.93\n",
       "4195  27/06/2020           0.000          -73.60\n",
       "4196  28/06/2020           0.000          -73.14\n",
       "4197  29/06/2020           0.000          -72.88\n",
       "4198  30/06/2020           0.000          -72.55\n",
       "\n",
       "[4199 rows x 3 columns]"
      ]
     },
     "execution_count": 108,
     "metadata": {},
     "output_type": "execute_result"
    }
   ],
   "source": [
    "train"
   ]
  },
  {
   "cell_type": "code",
   "execution_count": 109,
   "id": "3a0476f7",
   "metadata": {},
   "outputs": [
    {
     "data": {
      "text/plain": [
       "Date                0\n",
       "Rainfall_Terni      0\n",
       "Flow_Rate_Lupa    382\n",
       "dtype: int64"
      ]
     },
     "execution_count": 109,
     "metadata": {},
     "output_type": "execute_result"
    }
   ],
   "source": [
    "train.isnull().sum()"
   ]
  },
  {
   "cell_type": "code",
   "execution_count": 110,
   "id": "92d45956",
   "metadata": {},
   "outputs": [],
   "source": [
    "train = train[train.Flow_Rate_Lupa.notna()].reset_index(drop=True)"
   ]
  },
  {
   "cell_type": "code",
   "execution_count": 111,
   "id": "26ae0bc7",
   "metadata": {},
   "outputs": [
    {
     "data": {
      "text/plain": [
       "Date              0\n",
       "Rainfall_Terni    0\n",
       "Flow_Rate_Lupa    0\n",
       "dtype: int64"
      ]
     },
     "execution_count": 111,
     "metadata": {},
     "output_type": "execute_result"
    }
   ],
   "source": [
    "train.isnull().sum()"
   ]
  },
  {
   "cell_type": "code",
   "execution_count": 112,
   "id": "b6e8e389",
   "metadata": {},
   "outputs": [
    {
     "data": {
      "text/html": [
       "<div>\n",
       "<style scoped>\n",
       "    .dataframe tbody tr th:only-of-type {\n",
       "        vertical-align: middle;\n",
       "    }\n",
       "\n",
       "    .dataframe tbody tr th {\n",
       "        vertical-align: top;\n",
       "    }\n",
       "\n",
       "    .dataframe thead th {\n",
       "        text-align: right;\n",
       "    }\n",
       "</style>\n",
       "<table border=\"1\" class=\"dataframe\">\n",
       "  <thead>\n",
       "    <tr style=\"text-align: right;\">\n",
       "      <th></th>\n",
       "      <th>Date</th>\n",
       "      <th>Rainfall_Terni</th>\n",
       "      <th>Flow_Rate_Lupa</th>\n",
       "    </tr>\n",
       "  </thead>\n",
       "  <tbody>\n",
       "    <tr>\n",
       "      <th>0</th>\n",
       "      <td>19/02/2009</td>\n",
       "      <td>2.763</td>\n",
       "      <td>-166.02</td>\n",
       "    </tr>\n",
       "    <tr>\n",
       "      <th>1</th>\n",
       "      <td>20/02/2009</td>\n",
       "      <td>2.763</td>\n",
       "      <td>-166.97</td>\n",
       "    </tr>\n",
       "    <tr>\n",
       "      <th>2</th>\n",
       "      <td>21/02/2009</td>\n",
       "      <td>2.763</td>\n",
       "      <td>-167.72</td>\n",
       "    </tr>\n",
       "    <tr>\n",
       "      <th>3</th>\n",
       "      <td>22/02/2009</td>\n",
       "      <td>2.763</td>\n",
       "      <td>-168.65</td>\n",
       "    </tr>\n",
       "    <tr>\n",
       "      <th>4</th>\n",
       "      <td>23/02/2009</td>\n",
       "      <td>2.763</td>\n",
       "      <td>-169.42</td>\n",
       "    </tr>\n",
       "  </tbody>\n",
       "</table>\n",
       "</div>"
      ],
      "text/plain": [
       "         Date  Rainfall_Terni  Flow_Rate_Lupa\n",
       "0  19/02/2009           2.763         -166.02\n",
       "1  20/02/2009           2.763         -166.97\n",
       "2  21/02/2009           2.763         -167.72\n",
       "3  22/02/2009           2.763         -168.65\n",
       "4  23/02/2009           2.763         -169.42"
      ]
     },
     "execution_count": 112,
     "metadata": {},
     "output_type": "execute_result"
    }
   ],
   "source": [
    "train.columns = ['Date', 'Rainfall_Terni', 'Flow_Rate_Lupa']\n",
    "\n",
    "targets = ['Flow_Rate_Lupa']\n",
    "features = [feature for feature in train.columns if feature not in targets]\n",
    "train.head()"
   ]
  },
  {
   "cell_type": "code",
   "execution_count": 113,
   "id": "9d51c329",
   "metadata": {},
   "outputs": [
    {
     "name": "stderr",
     "output_type": "stream",
     "text": [
      "C:\\Users\\Lenovo\\AppData\\Local\\Temp\\ipykernel_19984\\3525749145.py:3: UserWarning: Parsing dates in %d/%m/%Y format when dayfirst=False (the default) was specified. Pass `dayfirst=True` or specify a format to silence this warning.\n",
      "  train['Date'] = pd.to_datetime(train['Date'])\n"
     ]
    },
    {
     "data": {
      "text/plain": [
       "DatetimeIndex(['2009-02-19', '2009-02-20', '2009-02-21', '2009-02-22',\n",
       "               '2009-02-23', '2009-02-24', '2009-02-25', '2009-02-26',\n",
       "               '2009-02-27', '2009-02-28',\n",
       "               ...\n",
       "               '2020-06-21', '2020-06-22', '2020-06-23', '2020-06-24',\n",
       "               '2020-06-25', '2020-06-26', '2020-06-27', '2020-06-28',\n",
       "               '2020-06-29', '2020-06-30'],\n",
       "              dtype='datetime64[ns]', name='Date', length=3817, freq=None)"
      ]
     },
     "execution_count": 113,
     "metadata": {},
     "output_type": "execute_result"
    }
   ],
   "source": [
    "from datetime import datetime, date,timedelta\n",
    "\n",
    "train['Date'] = pd.to_datetime(train['Date'])\n",
    "#train.head().style.set_properties(subset=['Date'])\n",
    "train.set_index(['Date'],inplace=True)\n",
    "train.index                 \n",
    "#indexedDataset=train.set_index(['Date'])"
   ]
  },
  {
   "cell_type": "code",
   "execution_count": 102,
   "id": "4102b61e",
   "metadata": {},
   "outputs": [
    {
     "data": {
      "text/html": [
       "<div>\n",
       "<style scoped>\n",
       "    .dataframe tbody tr th:only-of-type {\n",
       "        vertical-align: middle;\n",
       "    }\n",
       "\n",
       "    .dataframe tbody tr th {\n",
       "        vertical-align: top;\n",
       "    }\n",
       "\n",
       "    .dataframe thead th {\n",
       "        text-align: right;\n",
       "    }\n",
       "</style>\n",
       "<table border=\"1\" class=\"dataframe\">\n",
       "  <thead>\n",
       "    <tr style=\"text-align: right;\">\n",
       "      <th></th>\n",
       "      <th>Rainfall_Terni</th>\n",
       "      <th>Flow_Rate_Lupa</th>\n",
       "    </tr>\n",
       "  </thead>\n",
       "  <tbody>\n",
       "    <tr>\n",
       "      <th>count</th>\n",
       "      <td>3817.000000</td>\n",
       "      <td>3817.000000</td>\n",
       "    </tr>\n",
       "    <tr>\n",
       "      <th>mean</th>\n",
       "      <td>2.470262</td>\n",
       "      <td>-97.712916</td>\n",
       "    </tr>\n",
       "    <tr>\n",
       "      <th>std</th>\n",
       "      <td>2.099983</td>\n",
       "      <td>15.026314</td>\n",
       "    </tr>\n",
       "    <tr>\n",
       "      <th>min</th>\n",
       "      <td>0.000000</td>\n",
       "      <td>-182.310000</td>\n",
       "    </tr>\n",
       "    <tr>\n",
       "      <th>25%</th>\n",
       "      <td>1.402000</td>\n",
       "      <td>-105.760000</td>\n",
       "    </tr>\n",
       "    <tr>\n",
       "      <th>50%</th>\n",
       "      <td>2.131000</td>\n",
       "      <td>-96.590000</td>\n",
       "    </tr>\n",
       "    <tr>\n",
       "      <th>75%</th>\n",
       "      <td>3.165000</td>\n",
       "      <td>-87.220000</td>\n",
       "    </tr>\n",
       "    <tr>\n",
       "      <th>max</th>\n",
       "      <td>76.000000</td>\n",
       "      <td>0.000000</td>\n",
       "    </tr>\n",
       "  </tbody>\n",
       "</table>\n",
       "</div>"
      ],
      "text/plain": [
       "       Rainfall_Terni  Flow_Rate_Lupa\n",
       "count     3817.000000     3817.000000\n",
       "mean         2.470262      -97.712916\n",
       "std          2.099983       15.026314\n",
       "min          0.000000     -182.310000\n",
       "25%          1.402000     -105.760000\n",
       "50%          2.131000      -96.590000\n",
       "75%          3.165000      -87.220000\n",
       "max         76.000000        0.000000"
      ]
     },
     "execution_count": 102,
     "metadata": {},
     "output_type": "execute_result"
    }
   ],
   "source": [
    "train.describe()         "
   ]
  },
  {
   "cell_type": "code",
   "execution_count": 114,
   "id": "e6fc9175",
   "metadata": {},
   "outputs": [
    {
     "data": {
      "text/html": [
       "<div>\n",
       "<style scoped>\n",
       "    .dataframe tbody tr th:only-of-type {\n",
       "        vertical-align: middle;\n",
       "    }\n",
       "\n",
       "    .dataframe tbody tr th {\n",
       "        vertical-align: top;\n",
       "    }\n",
       "\n",
       "    .dataframe thead th {\n",
       "        text-align: right;\n",
       "    }\n",
       "</style>\n",
       "<table border=\"1\" class=\"dataframe\">\n",
       "  <thead>\n",
       "    <tr style=\"text-align: right;\">\n",
       "      <th></th>\n",
       "      <th>Rainfall_Terni</th>\n",
       "      <th>Flow_Rate_Lupa</th>\n",
       "      <th>Date</th>\n",
       "      <th>Month_Year</th>\n",
       "    </tr>\n",
       "    <tr>\n",
       "      <th>Date</th>\n",
       "      <th></th>\n",
       "      <th></th>\n",
       "      <th></th>\n",
       "      <th></th>\n",
       "    </tr>\n",
       "  </thead>\n",
       "  <tbody>\n",
       "    <tr>\n",
       "      <th>2009-02-19</th>\n",
       "      <td>2.763</td>\n",
       "      <td>-166.02</td>\n",
       "      <td>2009-02-19</td>\n",
       "      <td>February-2009</td>\n",
       "    </tr>\n",
       "    <tr>\n",
       "      <th>2009-02-20</th>\n",
       "      <td>2.763</td>\n",
       "      <td>-166.97</td>\n",
       "      <td>2009-02-20</td>\n",
       "      <td>February-2009</td>\n",
       "    </tr>\n",
       "    <tr>\n",
       "      <th>2009-02-21</th>\n",
       "      <td>2.763</td>\n",
       "      <td>-167.72</td>\n",
       "      <td>2009-02-21</td>\n",
       "      <td>February-2009</td>\n",
       "    </tr>\n",
       "    <tr>\n",
       "      <th>2009-02-22</th>\n",
       "      <td>2.763</td>\n",
       "      <td>-168.65</td>\n",
       "      <td>2009-02-22</td>\n",
       "      <td>February-2009</td>\n",
       "    </tr>\n",
       "    <tr>\n",
       "      <th>2009-02-23</th>\n",
       "      <td>2.763</td>\n",
       "      <td>-169.42</td>\n",
       "      <td>2009-02-23</td>\n",
       "      <td>February-2009</td>\n",
       "    </tr>\n",
       "  </tbody>\n",
       "</table>\n",
       "</div>"
      ],
      "text/plain": [
       "            Rainfall_Terni  Flow_Rate_Lupa        Date     Month_Year\n",
       "Date                                                                 \n",
       "2009-02-19           2.763         -166.02  2009-02-19  February-2009\n",
       "2009-02-20           2.763         -166.97  2009-02-20  February-2009\n",
       "2009-02-21           2.763         -167.72  2009-02-21  February-2009\n",
       "2009-02-22           2.763         -168.65  2009-02-22  February-2009\n",
       "2009-02-23           2.763         -169.42  2009-02-23  February-2009"
      ]
     },
     "execution_count": 114,
     "metadata": {},
     "output_type": "execute_result"
    }
   ],
   "source": [
    "#plt.xlabel('Date')\n",
    "#plt.ylabel('Number of passengers:')\n",
    "#plt.plot(indexedDataset)\n",
    "\n",
    "train['Date']=train.index.date\n",
    "train['Month_Year'] = train['Date'].apply(lambda x: x.strftime('%B-%Y')) \n",
    "indexedDataset=train.set_index([\"Month_Year\"])\n",
    "train.head()"
   ]
  },
  {
   "cell_type": "code",
   "execution_count": 115,
   "id": "6f890e12",
   "metadata": {},
   "outputs": [
    {
     "data": {
      "text/plain": [
       "Rainfall_Terni    float64\n",
       "Flow_Rate_Lupa    float64\n",
       "Date               object\n",
       "Month_Year         object\n",
       "dtype: object"
      ]
     },
     "execution_count": 115,
     "metadata": {},
     "output_type": "execute_result"
    }
   ],
   "source": [
    "train.dtypes"
   ]
  },
  {
   "cell_type": "code",
   "execution_count": 116,
   "id": "c73c8c2d",
   "metadata": {},
   "outputs": [
    {
     "data": {
      "text/html": [
       "<div>\n",
       "<style scoped>\n",
       "    .dataframe tbody tr th:only-of-type {\n",
       "        vertical-align: middle;\n",
       "    }\n",
       "\n",
       "    .dataframe tbody tr th {\n",
       "        vertical-align: top;\n",
       "    }\n",
       "\n",
       "    .dataframe thead th {\n",
       "        text-align: right;\n",
       "    }\n",
       "</style>\n",
       "<table border=\"1\" class=\"dataframe\">\n",
       "  <thead>\n",
       "    <tr style=\"text-align: right;\">\n",
       "      <th></th>\n",
       "      <th>Rainfall_Terni</th>\n",
       "      <th>Flow_Rate_Lupa</th>\n",
       "    </tr>\n",
       "  </thead>\n",
       "  <tbody>\n",
       "    <tr>\n",
       "      <th>count</th>\n",
       "      <td>3817.000000</td>\n",
       "      <td>3817.000000</td>\n",
       "    </tr>\n",
       "    <tr>\n",
       "      <th>mean</th>\n",
       "      <td>2.470262</td>\n",
       "      <td>-97.712916</td>\n",
       "    </tr>\n",
       "    <tr>\n",
       "      <th>std</th>\n",
       "      <td>2.099983</td>\n",
       "      <td>15.026314</td>\n",
       "    </tr>\n",
       "    <tr>\n",
       "      <th>min</th>\n",
       "      <td>0.000000</td>\n",
       "      <td>-182.310000</td>\n",
       "    </tr>\n",
       "    <tr>\n",
       "      <th>25%</th>\n",
       "      <td>1.402000</td>\n",
       "      <td>-105.760000</td>\n",
       "    </tr>\n",
       "    <tr>\n",
       "      <th>50%</th>\n",
       "      <td>2.131000</td>\n",
       "      <td>-96.590000</td>\n",
       "    </tr>\n",
       "    <tr>\n",
       "      <th>75%</th>\n",
       "      <td>3.165000</td>\n",
       "      <td>-87.220000</td>\n",
       "    </tr>\n",
       "    <tr>\n",
       "      <th>max</th>\n",
       "      <td>76.000000</td>\n",
       "      <td>0.000000</td>\n",
       "    </tr>\n",
       "  </tbody>\n",
       "</table>\n",
       "</div>"
      ],
      "text/plain": [
       "       Rainfall_Terni  Flow_Rate_Lupa\n",
       "count     3817.000000     3817.000000\n",
       "mean         2.470262      -97.712916\n",
       "std          2.099983       15.026314\n",
       "min          0.000000     -182.310000\n",
       "25%          1.402000     -105.760000\n",
       "50%          2.131000      -96.590000\n",
       "75%          3.165000      -87.220000\n",
       "max         76.000000        0.000000"
      ]
     },
     "execution_count": 116,
     "metadata": {},
     "output_type": "execute_result"
    }
   ],
   "source": [
    "train.describe()         "
   ]
  },
  {
   "cell_type": "code",
   "execution_count": 41,
   "id": "82d5d6e2",
   "metadata": {},
   "outputs": [
    {
     "data": {
      "text/plain": [
       "(1939, 3)"
      ]
     },
     "execution_count": 41,
     "metadata": {},
     "output_type": "execute_result"
    }
   ],
   "source": [
    "latest=train.loc['2015':'2020']\n",
    "latest.head()\n",
    "latest.shape"
   ]
  },
  {
   "cell_type": "code",
   "execution_count": 122,
   "id": "64f9140f",
   "metadata": {},
   "outputs": [
    {
     "data": {
      "text/html": [
       "<div>\n",
       "<style scoped>\n",
       "    .dataframe tbody tr th:only-of-type {\n",
       "        vertical-align: middle;\n",
       "    }\n",
       "\n",
       "    .dataframe tbody tr th {\n",
       "        vertical-align: top;\n",
       "    }\n",
       "\n",
       "    .dataframe thead th {\n",
       "        text-align: right;\n",
       "    }\n",
       "</style>\n",
       "<table border=\"1\" class=\"dataframe\">\n",
       "  <thead>\n",
       "    <tr style=\"text-align: right;\">\n",
       "      <th></th>\n",
       "      <th>Flow_Rate_Lupa</th>\n",
       "    </tr>\n",
       "    <tr>\n",
       "      <th>Rainfall_Terni</th>\n",
       "      <th></th>\n",
       "    </tr>\n",
       "  </thead>\n",
       "  <tbody>\n",
       "    <tr>\n",
       "      <th>4.6</th>\n",
       "      <td>-114.26</td>\n",
       "    </tr>\n",
       "    <tr>\n",
       "      <th>8.2</th>\n",
       "      <td>-114.21</td>\n",
       "    </tr>\n",
       "    <tr>\n",
       "      <th>16.4</th>\n",
       "      <td>-114.06</td>\n",
       "    </tr>\n",
       "    <tr>\n",
       "      <th>4.2</th>\n",
       "      <td>-113.99</td>\n",
       "    </tr>\n",
       "    <tr>\n",
       "      <th>7.8</th>\n",
       "      <td>-113.94</td>\n",
       "    </tr>\n",
       "    <tr>\n",
       "      <th>...</th>\n",
       "      <td>...</td>\n",
       "    </tr>\n",
       "    <tr>\n",
       "      <th>4.4</th>\n",
       "      <td>-81.83</td>\n",
       "    </tr>\n",
       "    <tr>\n",
       "      <th>20.0</th>\n",
       "      <td>-81.51</td>\n",
       "    </tr>\n",
       "    <tr>\n",
       "      <th>8.0</th>\n",
       "      <td>-81.23</td>\n",
       "    </tr>\n",
       "    <tr>\n",
       "      <th>3.6</th>\n",
       "      <td>-79.30</td>\n",
       "    </tr>\n",
       "    <tr>\n",
       "      <th>10.0</th>\n",
       "      <td>-76.89</td>\n",
       "    </tr>\n",
       "  </tbody>\n",
       "</table>\n",
       "<p>94 rows × 1 columns</p>\n",
       "</div>"
      ],
      "text/plain": [
       "                Flow_Rate_Lupa\n",
       "Rainfall_Terni                \n",
       "4.6                    -114.26\n",
       "8.2                    -114.21\n",
       "16.4                   -114.06\n",
       "4.2                    -113.99\n",
       "7.8                    -113.94\n",
       "...                        ...\n",
       "4.4                     -81.83\n",
       "20.0                    -81.51\n",
       "8.0                     -81.23\n",
       "3.6                     -79.30\n",
       "10.0                    -76.89\n",
       "\n",
       "[94 rows x 1 columns]"
      ]
     },
     "execution_count": 122,
     "metadata": {},
     "output_type": "execute_result"
    }
   ],
   "source": [
    "latest[['Rainfall_Terni','Flow_Rate_Lupa']].groupby(['Rainfall_Terni']).mean().sort_values('Flow_Rate_Lupa')"
   ]
  },
  {
   "cell_type": "code",
   "execution_count": 117,
   "id": "5d24a424",
   "metadata": {},
   "outputs": [
    {
     "data": {
      "text/plain": [
       "<Axes: xlabel='Month_Year', ylabel='Flow_Rate_Lupa'>"
      ]
     },
     "execution_count": 117,
     "metadata": {},
     "output_type": "execute_result"
    },
    {
     "data": {
      "image/png": "[encoded data removed]",
      "text/plain": [
       "<Figure size 900x400 with 1 Axes>"
      ]
     },
     "metadata": {},
     "output_type": "display_data"
    }
   ],
   "source": [
    "plt.figure(figsize=(9,4))\n",
    "sns.lineplot(x=\"Month_Year\",y='Flow_Rate_Lupa',data=train)"
   ]
  },
  {
   "cell_type": "code",
   "execution_count": 118,
   "id": "0fe0923a",
   "metadata": {},
   "outputs": [],
   "source": [
    "resample=train[['Flow_Rate_Lupa']].resample('A').mean()"
   ]
  },
  {
   "cell_type": "code",
   "execution_count": 120,
   "id": "591465a9",
   "metadata": {},
   "outputs": [
    {
     "data": {
      "text/plain": [
       "(12, 1)"
      ]
     },
     "execution_count": 120,
     "metadata": {},
     "output_type": "execute_result"
    }
   ],
   "source": [
    "resample.shape"
   ]
  },
  {
   "cell_type": "code",
   "execution_count": 52,
   "id": "f38616b4",
   "metadata": {},
   "outputs": [
    {
     "data": {
      "text/plain": [
       "<matplotlib.legend.Legend at 0x217f5fd8b50>"
      ]
     },
     "execution_count": 52,
     "metadata": {},
     "output_type": "execute_result"
    },
    {
     "data": {
      "image/png": "[encoded data removed]",
      "text/plain": [
       "<Figure size 800x500 with 1 Axes>"
      ]
     },
     "metadata": {},
     "output_type": "display_data"
    }
   ],
   "source": [
    "resample.plot(title='Flow rate changes from 2009 to 2020',figsize=(8,5))\n",
    "plt.xlabel('Year',fontsize=12)\n",
    "plt.ylabel('Flow_rate',fontsize=12)\n",
    "plt.legend()"
   ]
  },
  {
   "cell_type": "code",
   "execution_count": 60,
   "id": "074c1ddf",
   "metadata": {},
   "outputs": [
    {
     "name": "stdout",
     "output_type": "stream",
     "text": [
      "Dickey Fuller Test Results:\n"
     ]
    },
    {
     "ename": "ValueError",
     "evalue": "sample size is too short to use selected regression component",
     "output_type": "error",
     "traceback": [
      "\u001b[1;31m---------------------------------------------------------------------------\u001b[0m",
      "\u001b[1;31mValueError\u001b[0m                                Traceback (most recent call last)",
      "Cell \u001b[1;32mIn[60], line 4\u001b[0m\n\u001b[0;32m      1\u001b[0m \u001b[38;5;28;01mfrom\u001b[39;00m \u001b[38;5;21;01mstatsmodels\u001b[39;00m\u001b[38;5;21;01m.\u001b[39;00m\u001b[38;5;21;01mtsa\u001b[39;00m\u001b[38;5;21;01m.\u001b[39;00m\u001b[38;5;21;01mstattools\u001b[39;00m \u001b[38;5;28;01mimport\u001b[39;00m adfuller\n\u001b[0;32m      3\u001b[0m \u001b[38;5;28mprint\u001b[39m(\u001b[38;5;124m'\u001b[39m\u001b[38;5;124mDickey Fuller Test Results:\u001b[39m\u001b[38;5;124m'\u001b[39m)\n\u001b[1;32m----> 4\u001b[0m test\u001b[38;5;241m=\u001b[39m\u001b[43madfuller\u001b[49m\u001b[43m(\u001b[49m\u001b[43mresample\u001b[49m\u001b[38;5;241;43m.\u001b[39;49m\u001b[43miloc\u001b[49m\u001b[43m[\u001b[49m\u001b[43m:\u001b[49m\u001b[38;5;241;43m0\u001b[39;49m\u001b[43m]\u001b[49m\u001b[38;5;241;43m.\u001b[39;49m\u001b[43mvalues\u001b[49m\u001b[43m,\u001b[49m\u001b[43mautolag\u001b[49m\u001b[38;5;241;43m=\u001b[39;49m\u001b[38;5;124;43m'\u001b[39;49m\u001b[38;5;124;43mAIC\u001b[39;49m\u001b[38;5;124;43m'\u001b[39;49m\u001b[43m)\u001b[49m\n\u001b[0;32m      5\u001b[0m output\u001b[38;5;241m=\u001b[39mpd\u001b[38;5;241m.\u001b[39mSeries(test[\u001b[38;5;241m0\u001b[39m:\u001b[38;5;241m4\u001b[39m],index\u001b[38;5;241m=\u001b[39m[\u001b[38;5;124m'\u001b[39m\u001b[38;5;124mTest Stat\u001b[39m\u001b[38;5;124m'\u001b[39m,\u001b[38;5;124m'\u001b[39m\u001b[38;5;124mp-value\u001b[39m\u001b[38;5;124m'\u001b[39m,\u001b[38;5;124m'\u001b[39m\u001b[38;5;124mLags used\u001b[39m\u001b[38;5;124m'\u001b[39m,\u001b[38;5;124m'\u001b[39m\u001b[38;5;124mNumber of observe\u001b[39m\u001b[38;5;124m'\u001b[39m])\n\u001b[0;32m      7\u001b[0m \u001b[38;5;28;01mfor\u001b[39;00m key,value \u001b[38;5;129;01min\u001b[39;00m test[\u001b[38;5;241m4\u001b[39m]\u001b[38;5;241m.\u001b[39mitems():\n",
      "File \u001b[1;32m~\\AppData\\Local\\Packages\\PythonSoftwareFoundation.Python.3.10_qbz5n2kfra8p0\\LocalCache\\local-packages\\Python310\\site-packages\\statsmodels\\tsa\\stattools.py:288\u001b[0m, in \u001b[0;36madfuller\u001b[1;34m(x, maxlag, regression, autolag, store, regresults)\u001b[0m\n\u001b[0;32m    286\u001b[0m     maxlag \u001b[38;5;241m=\u001b[39m \u001b[38;5;28mmin\u001b[39m(nobs \u001b[38;5;241m/\u001b[39m\u001b[38;5;241m/\u001b[39m \u001b[38;5;241m2\u001b[39m \u001b[38;5;241m-\u001b[39m ntrend \u001b[38;5;241m-\u001b[39m \u001b[38;5;241m1\u001b[39m, maxlag)\n\u001b[0;32m    287\u001b[0m     \u001b[38;5;28;01mif\u001b[39;00m maxlag \u001b[38;5;241m<\u001b[39m \u001b[38;5;241m0\u001b[39m:\n\u001b[1;32m--> 288\u001b[0m         \u001b[38;5;28;01mraise\u001b[39;00m \u001b[38;5;167;01mValueError\u001b[39;00m(\n\u001b[0;32m    289\u001b[0m             \u001b[38;5;124m\"\u001b[39m\u001b[38;5;124msample size is too short to use selected \u001b[39m\u001b[38;5;124m\"\u001b[39m\n\u001b[0;32m    290\u001b[0m             \u001b[38;5;124m\"\u001b[39m\u001b[38;5;124mregression component\u001b[39m\u001b[38;5;124m\"\u001b[39m\n\u001b[0;32m    291\u001b[0m         )\n\u001b[0;32m    292\u001b[0m \u001b[38;5;28;01melif\u001b[39;00m maxlag \u001b[38;5;241m>\u001b[39m nobs \u001b[38;5;241m/\u001b[39m\u001b[38;5;241m/\u001b[39m \u001b[38;5;241m2\u001b[39m \u001b[38;5;241m-\u001b[39m ntrend \u001b[38;5;241m-\u001b[39m \u001b[38;5;241m1\u001b[39m:\n\u001b[0;32m    293\u001b[0m     \u001b[38;5;28;01mraise\u001b[39;00m \u001b[38;5;167;01mValueError\u001b[39;00m(\n\u001b[0;32m    294\u001b[0m         \u001b[38;5;124m\"\u001b[39m\u001b[38;5;124mmaxlag must be less than (nobs/2 - 1 - ntrend) \u001b[39m\u001b[38;5;124m\"\u001b[39m\n\u001b[0;32m    295\u001b[0m         \u001b[38;5;124m\"\u001b[39m\u001b[38;5;124mwhere n trend is the number of included \u001b[39m\u001b[38;5;124m\"\u001b[39m\n\u001b[0;32m    296\u001b[0m         \u001b[38;5;124m\"\u001b[39m\u001b[38;5;124mdeterministic regressors\u001b[39m\u001b[38;5;124m\"\u001b[39m\n\u001b[0;32m    297\u001b[0m     )\n",
      "\u001b[1;31mValueError\u001b[0m: sample size is too short to use selected regression component"
     ]
    }
   ],
   "source": [
    "\n",
    "from statsmodels.tsa.stattools import adfuller\n",
    "\n",
    "print('Dickey Fuller Test Results:')\n",
    "test=adfuller(resample.iloc[:0].values,autolag='AIC')\n",
    "output=pd.Series(test[0:4],index=['Test Stat','p-value','Lags used','Number of observe'])\n",
    "\n",
    "for key,value in test[4].items():\n",
    "    output['Critical value (%s)' %key] = value\n",
    "print(output)    \n",
    "    "
   ]
  },
  {
   "cell_type": "code",
   "execution_count": null,
   "id": "90a296b0",
   "metadata": {},
   "outputs": [],
   "source": []
  }
 ],
 "metadata": {
  "kernelspec": {
   "display_name": "Python 3 (ipykernel)",
   "language": "python",
   "name": "python3"
  },
  "language_info": {
   "codemirror_mode": {
    "name": "ipython",
    "version": 3
   },
   "file_extension": ".py",
   "mimetype": "text/x-python",
   "name": "python",
   "nbconvert_exporter": "python",
   "pygments_lexer": "ipython3",
   "version": "3.10.11"
  }
 },
 "nbformat": 4,
 "nbformat_minor": 5
}
